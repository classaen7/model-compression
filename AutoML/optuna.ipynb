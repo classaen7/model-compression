{
 "cells": [
  {
   "cell_type": "code",
   "execution_count": null,
   "metadata": {},
   "outputs": [],
   "source": [
    "!poetry add optuna"
   ]
  },
  {
   "cell_type": "markdown",
   "metadata": {},
   "source": [
    "### Sample : Optuna 개요"
   ]
  },
  {
   "cell_type": "code",
   "execution_count": 5,
   "metadata": {},
   "outputs": [],
   "source": [
    "import optuna"
   ]
  },
  {
   "cell_type": "code",
   "execution_count": null,
   "metadata": {},
   "outputs": [],
   "source": [
    "# Optuna Study 생성 -> blackbox Optimizer 및 관리 담당\n",
    "study = optuna.create_study(directions=\"maximize\")\n",
    "\n",
    "# 최적화할 목적함수 및 시도 횟수, 조건 등을 주고 Optimize 수행\n",
    "# 이때 각 시행별로 모델의 성능을 측정한 후 성능을 기반으로 다음 시도의 하이퍼파라미터를 탐색함\n",
    "study.optimize(objective, n_trials=500) \n",
    "\n",
    "print(f\"Best trial {study.best_trial}\")"
   ]
  },
  {
   "cell_type": "markdown",
   "metadata": {},
   "source": [
    "### Type"
   ]
  },
  {
   "cell_type": "code",
   "execution_count": null,
   "metadata": {},
   "outputs": [],
   "source": [
    "# Categorical\n",
    "activation = trial.suggest_categorical(name=\"activation\",  choices=[\"ReLU\", \"ReLU6\", \"Hardswish\"])\n",
    "\n",
    "# Continuous\n",
    "lr = trial.suggest_float(name=\"learning_rate\", low=1e-5, high=1e-2)\n",
    "\n",
    "# Integer\n",
    "epochs = trial.suggest_int(name=\"epochs\", low=10, high=30, step=10)"
   ]
  },
  {
   "cell_type": "markdown",
   "metadata": {},
   "source": [
    "위의 다양한 타입의 하이퍼파라미터(최적해를 찾을 대상)는 아래와 같이 objective 함수에 정의된다."
   ]
  },
  {
   "cell_type": "code",
   "execution_count": 43,
   "metadata": {},
   "outputs": [
    {
     "name": "stderr",
     "output_type": "stream",
     "text": [
      "[I 2024-08-08 00:12:19,844] A new study created in memory with name: no-name-e131e5a3-cffc-421f-8958-fb79127d6091\n",
      "[I 2024-08-08 00:12:19,846] Trial 0 finished with value: 2.0 and parameters: {'activation': 'Hardswish'}. Best is trial 0 with value: 2.0.\n",
      "[I 2024-08-08 00:12:19,848] Trial 1 finished with value: 0.0 and parameters: {'activation': 'ReLU'}. Best is trial 1 with value: 0.0.\n",
      "[I 2024-08-08 00:12:19,849] Trial 2 finished with value: 2.0 and parameters: {'activation': 'Hardswish'}. Best is trial 1 with value: 0.0.\n",
      "[I 2024-08-08 00:12:19,850] Trial 3 finished with value: 0.0 and parameters: {'activation': 'ReLU'}. Best is trial 1 with value: 0.0.\n",
      "[I 2024-08-08 00:12:19,851] Trial 4 finished with value: 2.0 and parameters: {'activation': 'Hardswish'}. Best is trial 1 with value: 0.0.\n"
     ]
    },
    {
     "name": "stdout",
     "output_type": "stream",
     "text": [
      "Suggested activation: Hardswish\n",
      "Suggested activation: ReLU\n",
      "Suggested activation: Hardswish\n",
      "Suggested activation: ReLU\n",
      "Suggested activation: Hardswish\n",
      "Best activation: ReLU\n"
     ]
    }
   ],
   "source": [
    "import optuna\n",
    "\n",
    "# objective 함수\n",
    "def objective(trial):\n",
    "    \"\"\"Get objective score.\n",
    "\n",
    "\tArgs:\n",
    "\t\ttrial: optuna trial object\n",
    "\t\n",
    "\tReturns:\n",
    "\t\tfloat: Score value.\n",
    "\t\t\tWhether to maximize, minimize will determined in optuna study setup.\n",
    "\t\"\"\"\n",
    "    sample = [\"ReLU\", \"ReLU6\", \"Hardswish\"]\n",
    "    activation = trial.suggest_categorical(\"activation\", sample)\n",
    "    print(f\"Suggested activation: {activation}\")\n",
    "    return sample.index(activation)\n",
    "    \n",
    "# 스터디 생성 및 최적화 실행\n",
    "study = optuna.create_study(direction=\"minimize\")\n",
    "study.optimize(objective, n_trials=5)  \n",
    "\n",
    "# 최적화된 결과 출력\n",
    "print(\"Best activation:\", study.best_params['activation'])"
   ]
  },
  {
   "cell_type": "markdown",
   "metadata": {},
   "source": [
    "`objective 함수`를 유연하게 꾸밀 수 있기 때문에 기존의 DL 프로세스에 optuna를 적용하기 어렵지 않다.\n",
    "\n",
    "`if`문을 통한 `Conditional Type`역시 관리할 수 있다. "
   ]
  },
  {
   "cell_type": "code",
   "execution_count": null,
   "metadata": {},
   "outputs": [],
   "source": [
    "# 다음같이 objective를 분리하여 정의할 수도 있다.\n",
    "def objective(trial)\n",
    "    architecture = sample_model(trial)\n",
    "    hyperparams = sample_hyperparam(trial)\n",
    "    model = train_model(Model(architecture, verbose=True), hyperparams)\n",
    "    score = evaluate(model)\n",
    "return score"
   ]
  },
  {
   "cell_type": "markdown",
   "metadata": {},
   "source": [
    "### Model 생성하기 : Model Config\n",
    "\n",
    "모델을 코드상에 직접 구현하지 않고 yaml 파일 같은 Config로 관리하여 가져오기 위한 yaml 파일 생성"
   ]
  },
  {
   "cell_type": "code",
   "execution_count": null,
   "metadata": {},
   "outputs": [],
   "source": [
    "# ResNet 50 예시\n",
    "\n",
    "BACKBONE:\n",
    "[\n",
    "    [1, Conv, [64, 7, 2]],\n",
    "    [1, Maxpool, [3, 2]],\n",
    "    [3, BottleNeck, [64]],\n",
    "    [4, BottleNeck, [128]],\n",
    "    [6, BottleNeck, [256]],\n",
    "    [3, BottleNeck, [512]],\n",
    "    [1, GlobalAvgPool, []],\n",
    "    [1, Flatten, []],\n",
    "    [1, Linear, [1000, softmax]]\n",
    "]\n"
   ]
  },
  {
   "cell_type": "markdown",
   "metadata": {},
   "source": [
    "### Model 생성하기 : NAS의 접근법\n",
    "\n",
    "NAS(Neural Architecture Search)는 좋은 모듈 Block(Macro)을 그대로 쓰되 micro한 부분을 탐색한다.\n",
    "\n",
    "아래의 코드는 특정 분기에서 Macro는 유지하되 내부의 출력 채널, 커널 사이즈, 활성화 함수 등 micro한 부분을 변경하며 최적해를 찾는다."
   ]
  },
  {
   "cell_type": "code",
   "execution_count": null,
   "metadata": {},
   "outputs": [],
   "source": [
    "def objective(trial):\n",
    "    n = trial.suggest_int(\"n_repeat\", 1, 5)\n",
    "\n",
    "    # Sample Normal Cell (NC) \n",
    "    model = []\n",
    "    nc_args = [] \n",
    "    nc = trial.suggest_categoricall(\"normal_cell\", [\"Conv\", \"DWConv\", \"Bottleneck\", \"InvertedResidualv2\", \"MBConv\"])\n",
    "\n",
    "    if nc == \"Conv\":\n",
    "        # Conv_args: [out_channel, kernel_size, stride, padding, activation] \n",
    "        out_channel = trial.suggest_int(\"normal_cell/out_channels\", 16, 64)\n",
    "        kernel_size = trial.suggest_int(\"normal_cell/kernel_size\", 1, 7, step=2)\n",
    "        activation = trial.suggest_categorical(\"normal_cell/activation\", [\"RELU\", \"RELU6\", \"Hardswish\"])\n",
    "        nc_args = [out_channel, kernel_size, 1, None, 1, activation] \n",
    "    elif nc == \"DWConv\":\n",
    "        pass \n",
    "    elif nc == \"Bottleneck\":\n",
    "        pass\n",
    "\n",
    "    # Sample Reduction Cell(RC) \n",
    "    rc_args = [] \n",
    "    rc = trial.suggest_categorical(\"reduction_cell\", [\"InvertedResidualv2\", \"InvertedResidualv3\", \"MaxPool\", \"AvgPool\"])\n",
    "\n",
    "    if rc == \"InvertedResidualv2\":\n",
    "        t = trial.suggest_int(\"reduction_cell/t\", 1, 6)\n",
    "        out_channel = trial.suggest_int(\"reduction_cell/out_channels\", 16, 64)\n",
    "        stride = 2\n",
    "        rc_args = [t, out_channel, stride] \n",
    "    elif rc == \"InvertedResidualv3\":\n",
    "        pass \n",
    "    elif rc == \"MaxPool\":\n",
    "        pass\n",
    "\n",
    "    model.append([n, nc, nc_args])\n",
    "    model.append([1, rc, rc_args])\n",
    "    model.append([n, nc, nc_args])\n",
    "    model.append([1, rc, rc_args])\n",
    "    model.append([n, nc, nc_args])\n",
    "    model.append([1, \"GlobalAvgPool\", []])\n",
    "    model.append([1, \"Flatten\", []])\n",
    "    model.append([1, \"Linear\", [10]])\n",
    "\n",
    "    model = model_generate(model)\n",
    "    model = train(model)\n",
    "\n",
    "    return evaluate(model)"
   ]
  }
 ],
 "metadata": {
  "kernelspec": {
   "display_name": "dlpoetry-5eG4FEyD-py3.10",
   "language": "python",
   "name": "python3"
  },
  "language_info": {
   "codemirror_mode": {
    "name": "ipython",
    "version": 3
   },
   "file_extension": ".py",
   "mimetype": "text/x-python",
   "name": "python",
   "nbconvert_exporter": "python",
   "pygments_lexer": "ipython3",
   "version": "3.10.12"
  }
 },
 "nbformat": 4,
 "nbformat_minor": 2
}
