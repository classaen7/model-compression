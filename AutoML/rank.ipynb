{
 "cells": [
  {
   "cell_type": "markdown",
   "metadata": {},
   "source": [
    "# Rank 설정\n",
    "\n",
    "Decomposition을 공부하다보면 Rank 설정에 대해서 어려움이 존재한다. <br>\n",
    "하나의 모델에는 여러 레이어가 존재하고 각 레이어에 대해 각각의 Rank를 설정해야한다.\n",
    "이때 최적의 Rank를 찾기 위해서는 다양한 방법이 존재한다. <br>\n",
    "예를 들어 VBFM(Variational Bayesian Matrix Factorization)은 실제로 잘 동작하는 방법이다. 하지만 항상 잘 동작한다는 보장은 없다.<br>\n",
    "이번 코드에서는 AutoML을 이용하여 최적의 Rank를 찾는 방법을 알아보겠다."
   ]
  },
  {
   "cell_type": "markdown",
   "metadata": {},
   "source": [
    "# <font color=\"yellow\"> 해보기 </font>\n",
    "\n",
    "- torch pre-train vgg16 불러오기\n",
    "- 학습-평가 파이프라인 구성하기 : cifar 10 대상으로\n",
    "- Auto ML 구현하기 (yaml -> model은 말고 rank 계산할 수 있게 끔)\n"
   ]
  }
 ],
 "metadata": {
  "language_info": {
   "name": "python"
  }
 },
 "nbformat": 4,
 "nbformat_minor": 2
}
